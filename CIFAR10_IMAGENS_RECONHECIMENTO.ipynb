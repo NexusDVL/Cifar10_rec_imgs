{
  "nbformat": 4,
  "nbformat_minor": 0,
  "metadata": {
    "colab": {
      "provenance": [],
      "toc_visible": true,
      "include_colab_link": true
    },
    "kernelspec": {
      "name": "python3",
      "display_name": "Python 3"
    },
    "language_info": {
      "name": "python"
    }
  },
  "cells": [
    {
      "cell_type": "markdown",
      "metadata": {
        "id": "view-in-github",
        "colab_type": "text"
      },
      "source": [
        "<a href=\"https://colab.research.google.com/github/NexusDVL/Cifar10_rec_imgs/blob/main/CIFAR10_IMAGENS_RECONHECIMENTO.ipynb\" target=\"_parent\"><img src=\"https://colab.research.google.com/assets/colab-badge.svg\" alt=\"Open In Colab\"/></a>"
      ]
    },
    {
      "cell_type": "code",
      "execution_count": 5,
      "metadata": {
        "colab": {
          "base_uri": "https://localhost:8080/"
        },
        "id": "cL8xE4PTrC0t",
        "outputId": "2d919000-f6e5-4564-c563-6e0ad5624f7a"
      },
      "outputs": [
        {
          "output_type": "stream",
          "name": "stdout",
          "text": [
            "Epoch 1/10\n",
            "1563/1563 [==============================] - 81s 51ms/step - loss: 1.4661 - accuracy: 0.4651 - val_loss: 1.2217 - val_accuracy: 0.5720\n",
            "Epoch 2/10\n",
            "1563/1563 [==============================] - 84s 54ms/step - loss: 1.0738 - accuracy: 0.6220 - val_loss: 1.0054 - val_accuracy: 0.6467\n",
            "Epoch 3/10\n",
            "1563/1563 [==============================] - 78s 50ms/step - loss: 0.9046 - accuracy: 0.6846 - val_loss: 1.0045 - val_accuracy: 0.6500\n",
            "Epoch 4/10\n",
            "1563/1563 [==============================] - 78s 50ms/step - loss: 0.8015 - accuracy: 0.7190 - val_loss: 0.8971 - val_accuracy: 0.6941\n",
            "Epoch 5/10\n",
            "1563/1563 [==============================] - 81s 52ms/step - loss: 0.7099 - accuracy: 0.7497 - val_loss: 0.9187 - val_accuracy: 0.6808\n",
            "Epoch 6/10\n",
            "1563/1563 [==============================] - 78s 50ms/step - loss: 0.6330 - accuracy: 0.7773 - val_loss: 0.8524 - val_accuracy: 0.7142\n",
            "Epoch 7/10\n",
            "1563/1563 [==============================] - 76s 48ms/step - loss: 0.5646 - accuracy: 0.7994 - val_loss: 0.9047 - val_accuracy: 0.7107\n",
            "Epoch 8/10\n",
            "1563/1563 [==============================] - 79s 51ms/step - loss: 0.4943 - accuracy: 0.8256 - val_loss: 0.9156 - val_accuracy: 0.7065\n",
            "Epoch 9/10\n",
            "1563/1563 [==============================] - 77s 49ms/step - loss: 0.4376 - accuracy: 0.8433 - val_loss: 0.9737 - val_accuracy: 0.7152\n",
            "Epoch 10/10\n",
            "1563/1563 [==============================] - 79s 50ms/step - loss: 0.3779 - accuracy: 0.8645 - val_loss: 1.0107 - val_accuracy: 0.7131\n",
            "313/313 [==============================] - 4s 13ms/step - loss: 1.0107 - accuracy: 0.7131\n",
            "Test accuracy: 0.713100016117096\n"
          ]
        }
      ],
      "source": [
        "import tensorflow as tf\n",
        "from tensorflow.keras.datasets import cifar10\n",
        "from tensorflow.keras.preprocessing.image import ImageDataGenerator\n",
        "\n",
        "# Carregar os dados CIFAR-10\n",
        "(train_images, train_labels), (test_images, test_labels) = cifar10.load_data()\n",
        "\n",
        "# Pré-processamento das imagens\n",
        "train_images = train_images / 255.0\n",
        "test_images = test_images / 255.0\n",
        "\n",
        "# Definir o modelo CNN\n",
        "model = tf.keras.models.Sequential([\n",
        "    tf.keras.layers.Conv2D(32, (3, 3), activation='relu', input_shape=(32, 32, 3)),\n",
        "    tf.keras.layers.MaxPooling2D((2, 2)),\n",
        "    tf.keras.layers.Conv2D(64, (3, 3), activation='relu'),\n",
        "    tf.keras.layers.MaxPooling2D((2, 2)),\n",
        "    tf.keras.layers.Conv2D(128, (3, 3), activation='relu'),\n",
        "    tf.keras.layers.MaxPooling2D((2, 2)),\n",
        "    tf.keras.layers.Flatten(),\n",
        "    tf.keras.layers.Dense(512, activation='relu'),\n",
        "    tf.keras.layers.Dense(10, activation='softmax')\n",
        "])\n",
        "\n",
        "# Compilar o modelo\n",
        "model.compile(optimizer='adam',\n",
        "              loss='sparse_categorical_crossentropy',\n",
        "              metrics=['accuracy'])\n",
        "\n",
        "# Treinar o modelo\n",
        "history = model.fit(train_images, train_labels, epochs=10, validation_data=(test_images, test_labels))\n",
        "\n",
        "# Avaliar o modelo\n",
        "test_loss, test_acc = model.evaluate(test_images, test_labels)\n",
        "\n",
        "print('Test accuracy:', test_acc)\n"
      ]
    },
    {
      "cell_type": "code",
      "source": [
        "model.save('modelo_cifar10.h5')"
      ],
      "metadata": {
        "id": "zPiESjh6Ug-9"
      },
      "execution_count": 6,
      "outputs": []
    },
    {
      "cell_type": "code",
      "source": [
        "import tensorflow as tf\n",
        "import numpy as np\n",
        "from tensorflow.keras.preprocessing import image\n",
        "\n",
        "# Carregar o modelo treinado\n",
        "model = tf.keras.models.load_model('modelo_cifar10.h5')\n",
        "\n",
        "# Listar os caminhos das imagens\n",
        "image_paths = [\n",
        "    '/content/img/gato1.jpg',\n",
        "    '/content/img/gato2.webp',\n",
        "    '/content/img/gato3.webp',\n",
        "    '/content/img/gato4.jpg',\n",
        "    '/content/img/sapo1.jpg',\n",
        "    '/content/img/sapo2.webp',\n",
        "    '/content/img/sapo3.jpg',\n",
        "    '/content/img/sapo4.jpg',\n",
        "    '/content/img/cavalo1.jpg',\n",
        "    '/content/img/cavalo2.jpg',\n",
        "    '/content/img/cavalo3.webp',\n",
        "    '/content/img/cavalo4.webp',\n",
        "    '/content/img/automovel1.webp',\n",
        "    '/content/img/automovel2.jpg',\n",
        "    '/content/img/automovel3.jpg',\n",
        "    '/content/img/automovel4.jpg',\n",
        "    '/content/img/passaro1.jpg',\n",
        "    '/content/img/passaro2.jpeg',\n",
        "    '/content/img/passaro3.png',\n",
        "    '/content/img/passaro4.webp',\n",
        "]\n",
        "\n",
        "# Lista para armazenar as previsões das imagens\n",
        "predictions = []\n",
        "\n",
        "# Loop sobre os caminhos das imagens\n",
        "for image_path in image_paths:\n",
        "    # Carregar a imagem e prepará-la para a entrada do modelo\n",
        "    img = image.load_img(image_path, target_size=(32, 32))\n",
        "    img_array = image.img_to_array(img)\n",
        "    img_array = np.expand_dims(img_array, axis=0)\n",
        "    img_array /= 255.0  # Normalização\n",
        "\n",
        "    # Fazer a previsão\n",
        "    prediction = model.predict(img_array)\n",
        "    predicted_class = np.argmax(prediction)\n",
        "\n",
        "    # Mapear o número da classe para o nome da classe\n",
        "    class_names = ['avião', 'automóvel', 'pássaro', 'gato', 'cervo', 'cachorro', 'sapo', 'cavalo', 'navio', 'caminhão']\n",
        "    predicted_label = class_names[predicted_class]\n",
        "\n",
        "    # Adicionar a previsão à lista de previsões\n",
        "    predictions.append(predicted_label)\n",
        "\n",
        "# Imprimir as previsões\n",
        "print('Previsões das imagens:', predictions)\n"
      ],
      "metadata": {
        "colab": {
          "base_uri": "https://localhost:8080/"
        },
        "id": "NlMJgunnsVeR",
        "outputId": "e85967d6-f557-4d44-e4d2-63141da9c05f"
      },
      "execution_count": 7,
      "outputs": [
        {
          "output_type": "stream",
          "name": "stdout",
          "text": [
            "1/1 [==============================] - 0s 81ms/step\n",
            "1/1 [==============================] - 0s 21ms/step\n",
            "1/1 [==============================] - 0s 26ms/step\n",
            "1/1 [==============================] - 0s 21ms/step\n",
            "1/1 [==============================] - 0s 21ms/step\n",
            "1/1 [==============================] - 0s 25ms/step\n",
            "1/1 [==============================] - 0s 21ms/step\n",
            "1/1 [==============================] - 0s 24ms/step\n",
            "1/1 [==============================] - 0s 21ms/step\n",
            "1/1 [==============================] - 0s 21ms/step\n",
            "1/1 [==============================] - 0s 21ms/step\n",
            "1/1 [==============================] - 0s 20ms/step\n",
            "1/1 [==============================] - 0s 24ms/step\n",
            "1/1 [==============================] - 0s 20ms/step\n",
            "1/1 [==============================] - 0s 22ms/step\n",
            "1/1 [==============================] - 0s 22ms/step\n",
            "1/1 [==============================] - 0s 22ms/step\n",
            "1/1 [==============================] - 0s 21ms/step\n",
            "1/1 [==============================] - 0s 20ms/step\n",
            "1/1 [==============================] - 0s 21ms/step\n",
            "Previsões das imagens: ['gato', 'cervo', 'caminhão', 'gato', 'sapo', 'sapo', 'sapo', 'sapo', 'cavalo', 'pássaro', 'caminhão', 'cachorro', 'automóvel', 'caminhão', 'automóvel', 'automóvel', 'pássaro', 'automóvel', 'pássaro', 'sapo']\n"
          ]
        }
      ]
    },
    {
      "cell_type": "markdown",
      "source": [
        "## O teste foi feito com 20 imagens, 4 de gatos, 4 de passaros, 4 de automoveis, 4 de sapos e 4 de cavalos. modifiquei o codigo para que ele pudesse analisar 20 imagens de uma vez."
      ],
      "metadata": {
        "id": "GFNdKQi8T-Y8"
      }
    },
    {
      "cell_type": "markdown",
      "source": [
        "## O resultado foi:\n",
        "\n",
        "Gato1 -> Acertou\n",
        "\n",
        "Gato2 -> Errou\n",
        "\n",
        "Gato3 -> Errou\n",
        "\n",
        "Gato4 -> Acertou\n",
        "\n",
        "---------------------\n",
        "\n",
        "Sapo1 -> Acertou\n",
        "\n",
        "Sapo2 -> Acertou\n",
        "\n",
        "Sapo3 -> Acertou\n",
        "\n",
        "Sapo4 -> Acertou\n",
        "\n",
        "---------------------\n",
        "\n",
        "Cavalo1 -> Acertou\n",
        "\n",
        "Cavalo2 -> Errou\n",
        "\n",
        "Cavalo3 -> Errou\n",
        "\n",
        "Cavalo4 -> Errou\n",
        "\n",
        "---------------------\n",
        "\n",
        "Automovel1 -> Acertou\n",
        "\n",
        "Automovel2 -> Errou\n",
        "\n",
        "Automovel3 -> Acertou\n",
        "\n",
        "Automovel4 -> Acertou\n",
        "\n",
        "---------------------\n",
        "\n",
        "Passaro1 -> Acertou\n",
        "\n",
        "Passaro2 -> Errou\n",
        "\n",
        "Passaro3 -> Acertou\n",
        "\n",
        "Passaro4 -> Errou\n",
        "\n",
        "---------------------\n",
        "\n",
        "12 Acertos e 8 Erros, ou seja, 60% de acerto"
      ],
      "metadata": {
        "id": "Azblqq9QUaoD"
      }
    }
  ]
}